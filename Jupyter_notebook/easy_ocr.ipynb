{
 "cells": [
  {
   "cell_type": "code",
   "execution_count": 14,
   "id": "a8e46ffd",
   "metadata": {},
   "outputs": [
    {
     "name": "stdout",
     "output_type": "stream",
     "text": [
      "Requirement already satisfied: easyocr in /home/iduadmin/miniconda3/lib/python3.9/site-packages (1.6.2)\n",
      "Requirement already satisfied: matplotlib in /home/iduadmin/miniconda3/lib/python3.9/site-packages (3.6.2)\n",
      "Requirement already satisfied: numpy in /home/iduadmin/miniconda3/lib/python3.9/site-packages (1.23.5)\n",
      "Requirement already satisfied: scikit-image in /home/iduadmin/miniconda3/lib/python3.9/site-packages (from easyocr) (0.19.3)\n",
      "Requirement already satisfied: pyclipper in /home/iduadmin/miniconda3/lib/python3.9/site-packages (from easyocr) (1.3.0.post4)\n",
      "Requirement already satisfied: scipy in /home/iduadmin/miniconda3/lib/python3.9/site-packages (from easyocr) (1.9.3)\n",
      "Requirement already satisfied: torchvision>=0.5 in /home/iduadmin/miniconda3/lib/python3.9/site-packages (from easyocr) (0.14.0)\n",
      "Requirement already satisfied: ninja in /home/iduadmin/miniconda3/lib/python3.9/site-packages (from easyocr) (1.11.1)\n",
      "Requirement already satisfied: Pillow in /home/iduadmin/miniconda3/lib/python3.9/site-packages (from easyocr) (9.3.0)\n",
      "Requirement already satisfied: PyYAML in /home/iduadmin/miniconda3/lib/python3.9/site-packages (from easyocr) (6.0)\n",
      "Requirement already satisfied: Shapely in /home/iduadmin/miniconda3/lib/python3.9/site-packages (from easyocr) (1.8.5.post1)\n",
      "Requirement already satisfied: python-bidi in /home/iduadmin/miniconda3/lib/python3.9/site-packages (from easyocr) (0.4.2)\n",
      "Requirement already satisfied: opencv-python-headless<=4.5.4.60 in /home/iduadmin/miniconda3/lib/python3.9/site-packages (from easyocr) (4.5.4.60)\n",
      "Requirement already satisfied: torch in /home/iduadmin/miniconda3/lib/python3.9/site-packages (from easyocr) (1.13.0)\n",
      "Requirement already satisfied: packaging>=20.0 in /home/iduadmin/miniconda3/lib/python3.9/site-packages (from matplotlib) (21.3)\n",
      "Requirement already satisfied: contourpy>=1.0.1 in /home/iduadmin/miniconda3/lib/python3.9/site-packages (from matplotlib) (1.0.6)\n",
      "Requirement already satisfied: fonttools>=4.22.0 in /home/iduadmin/miniconda3/lib/python3.9/site-packages (from matplotlib) (4.38.0)\n",
      "Requirement already satisfied: python-dateutil>=2.7 in /home/iduadmin/miniconda3/lib/python3.9/site-packages (from matplotlib) (2.8.2)\n",
      "Requirement already satisfied: cycler>=0.10 in /home/iduadmin/miniconda3/lib/python3.9/site-packages (from matplotlib) (0.11.0)\n",
      "Requirement already satisfied: pyparsing>=2.2.1 in /home/iduadmin/miniconda3/lib/python3.9/site-packages (from matplotlib) (3.0.9)\n",
      "Requirement already satisfied: kiwisolver>=1.0.1 in /home/iduadmin/miniconda3/lib/python3.9/site-packages (from matplotlib) (1.4.4)\n",
      "Requirement already satisfied: six>=1.5 in /home/iduadmin/miniconda3/lib/python3.9/site-packages (from python-dateutil>=2.7->matplotlib) (1.16.0)\n",
      "Requirement already satisfied: typing-extensions in /home/iduadmin/miniconda3/lib/python3.9/site-packages (from torchvision>=0.5->easyocr) (4.4.0)\n",
      "Requirement already satisfied: requests in /home/iduadmin/miniconda3/lib/python3.9/site-packages (from torchvision>=0.5->easyocr) (2.28.1)\n",
      "Requirement already satisfied: nvidia-cuda-nvrtc-cu11==11.7.99 in /home/iduadmin/miniconda3/lib/python3.9/site-packages (from torch->easyocr) (11.7.99)\n",
      "Requirement already satisfied: nvidia-cuda-runtime-cu11==11.7.99 in /home/iduadmin/miniconda3/lib/python3.9/site-packages (from torch->easyocr) (11.7.99)\n",
      "Requirement already satisfied: nvidia-cudnn-cu11==8.5.0.96 in /home/iduadmin/miniconda3/lib/python3.9/site-packages (from torch->easyocr) (8.5.0.96)\n",
      "Requirement already satisfied: nvidia-cublas-cu11==11.10.3.66 in /home/iduadmin/miniconda3/lib/python3.9/site-packages (from torch->easyocr) (11.10.3.66)\n",
      "Requirement already satisfied: wheel in /home/iduadmin/miniconda3/lib/python3.9/site-packages (from nvidia-cublas-cu11==11.10.3.66->torch->easyocr) (0.37.1)\n",
      "Requirement already satisfied: setuptools in /home/iduadmin/miniconda3/lib/python3.9/site-packages (from nvidia-cublas-cu11==11.10.3.66->torch->easyocr) (61.2.0)\n",
      "Requirement already satisfied: networkx>=2.2 in /home/iduadmin/miniconda3/lib/python3.9/site-packages (from scikit-image->easyocr) (2.8.8)\n",
      "Requirement already satisfied: imageio>=2.4.1 in /home/iduadmin/miniconda3/lib/python3.9/site-packages (from scikit-image->easyocr) (2.22.4)\n",
      "Requirement already satisfied: PyWavelets>=1.1.1 in /home/iduadmin/miniconda3/lib/python3.9/site-packages (from scikit-image->easyocr) (1.4.1)\n",
      "Requirement already satisfied: tifffile>=2019.7.26 in /home/iduadmin/miniconda3/lib/python3.9/site-packages (from scikit-image->easyocr) (2022.10.10)\n",
      "Requirement already satisfied: urllib3<1.27,>=1.21.1 in /home/iduadmin/miniconda3/lib/python3.9/site-packages (from requests->torchvision>=0.5->easyocr) (1.26.12)\n",
      "Requirement already satisfied: idna<4,>=2.5 in /home/iduadmin/miniconda3/lib/python3.9/site-packages (from requests->torchvision>=0.5->easyocr) (3.4)\n",
      "Requirement already satisfied: certifi>=2017.4.17 in /home/iduadmin/miniconda3/lib/python3.9/site-packages (from requests->torchvision>=0.5->easyocr) (2022.9.24)\n",
      "Requirement already satisfied: charset-normalizer<3,>=2 in /home/iduadmin/miniconda3/lib/python3.9/site-packages (from requests->torchvision>=0.5->easyocr) (2.1.1)\n",
      "Note: you may need to restart the kernel to use updated packages.\n"
     ]
    }
   ],
   "source": [
    "%pip install easyocr matplotlib numpy"
   ]
  },
  {
   "cell_type": "code",
   "execution_count": 1,
   "id": "58d9184c",
   "metadata": {},
   "outputs": [
    {
     "name": "stderr",
     "output_type": "stream",
     "text": [
      "/home/iduadmin/miniconda3/lib/python3.9/site-packages/tqdm/auto.py:22: TqdmWarning: IProgress not found. Please update jupyter and ipywidgets. See https://ipywidgets.readthedocs.io/en/stable/user_install.html\n",
      "  from .autonotebook import tqdm as notebook_tqdm\n"
     ]
    }
   ],
   "source": [
    "import os\n",
    "import easyocr\n",
    "import cv2\n",
    "from matplotlib import pyplot as plt\n",
    "import numpy as np"
   ]
  },
  {
   "cell_type": "code",
   "execution_count": 8,
   "id": "4263845e",
   "metadata": {},
   "outputs": [],
   "source": [
    "file_name = r'/home/iduadmin/PycharmProjects/OCR (another copy)/Task3_images/texting/Text_Message_02.png'"
   ]
  },
  {
   "cell_type": "code",
   "execution_count": 11,
   "id": "2b2aa0a5",
   "metadata": {},
   "outputs": [
    {
     "name": "stdout",
     "output_type": "stream",
     "text": [
      "https://github.com/JaidedAI/EasyOCR/releases/download/v1.3/english_g2.zip\n",
      "/home/iduadmin/.EasyOCR//model/english_g2.pth\n",
      "True\n",
      "\n",
      "/home/iduadmin/PycharmProjects/OCR (another copy)/Task3_images/texting/Text_Message_02.png\n",
      "\n",
      "\n",
      "9:41\n",
      "Ariana Barros\n",
      "Chats\n",
      "From: 858-800-4552\n",
      "Thanks for watching our video on\n",
      "how to use texting: What was your\n",
      "biggest takeway?\n",
      "Im glad you do both automated\n",
      "and 2 way texting:\n",
      "Yepl In fact you replied to an\n",
      "automated text from our platform\n",
      "and here\n",
      "am replying from our\n",
      "mobile app.\n",
      "Cool. That's exactly what\n",
      "need:\n",
      "New Message\n",
      "the\n",
      "Fm\n",
      "W\n",
      "E\n",
      "R\n",
      "T\n",
      "U\n",
      "P\n",
      "S\n",
      "H\n",
      "K\n",
      "Z\n",
      "B\n",
      "N\n",
      "M\n",
      "123\n",
      "space\n",
      "return\n"
     ]
    }
   ],
   "source": [
    "reader = easyocr.Reader(['en'])\n",
    "complete = \"\"\n",
    "print('\\n' + file_name + '\\n')\n",
    "results = reader.readtext(file_name, paragraph=False)\n",
    "for (box, text, confidence) in results:\n",
    "#         print(f\"box: {box} \\ntext: {text} \\nconfidence: {confidence}\")\n",
    "    complete = complete + \"\\n\" + text\n",
    "#         print(i[1])\n",
    "print(complete)"
   ]
  },
  {
   "cell_type": "code",
   "execution_count": 13,
   "id": "cfed884a",
   "metadata": {},
   "outputs": [],
   "source": [
    "custom_buffer = 5\n",
    "for root, dirs, file_names in os.walk(path_to_images):\n",
    "    for file_name in file_names:\n",
    "        reader = easyocr.Reader(['en'])\n",
    "        complete = \"\"\n",
    "        print('\\n' + file_name + '\\n')\n",
    "        results = reader.readtext(path_to_images + file_name, paragraph=\"\")\n",
    "#     for (box, text, confidence) in results:\n",
    "# #         print(f\"box: {box} \\ntext: {text} \\nconfidence: {confidence}\")\n",
    "#         complete = complete + \"\\n\" + text\n",
    "# #         print(i[1])\n",
    "#     print(complete)\n",
    "    \n",
    "        height_variation = 2 # +/- half of overall height to buffer\n",
    "\n",
    "        line = {}\n",
    "        y_buffer = 0\n",
    "        prev_y_max = 0\n",
    "        prev_y_min = 0\n",
    "        complete = \"\"\n",
    "    \n",
    "        for (box, text, confidence) in results:\n",
    "            y_max = box[3][1]\n",
    "            y_min = box[2][1]\n",
    "            x_min = box[0][0]\n",
    "        \n",
    "#         print(f\"\"\"\n",
    "#         {text}\n",
    "#         y_min: {y_min}\n",
    "#         y_max: {y_max}\n",
    "#         x_min: {x_min}\n",
    "#         prev_y_min: {prev_y_min}\n",
    "#         prev_y_max: {prev_y_max}\n",
    "#         buffer: {y_buffer}\"\"\")\n",
    "            if (prev_y_min - y_buffer) < y_min and (prev_y_max + y_buffer) > y_max:\n",
    "                prev_y_min = y_min\n",
    "                y_buffer = (y_max - y_min) / height_variation\n",
    "                prev_y_max = y_max\n",
    "                line[x_min] = text\n",
    "            else:\n",
    "                line = dict(sorted(line.items()))\n",
    "                words = ''\n",
    "                for word in line.values():\n",
    "                    words = words + ' ' + word\n",
    "\n",
    "                complete = complete + words + '\\n'\n",
    "                line = {x_min:text}\n",
    "                prev_y_min = y_min\n",
    "                prev_y_max = y_max\n",
    "                y_buffer = (y_max - y_min) / height_variation\n",
    "            \n",
    "        # if the text is very small, add a custom buffer    \n",
    "            if custom_buffer != 0:\n",
    "                y_buffer = custom_buffer\n",
    "        print(complete)\n",
    "    \n",
    "    "
   ]
  },
  {
   "cell_type": "code",
   "execution_count": null,
   "id": "6c7203c4",
   "metadata": {},
   "outputs": [],
   "source": []
  },
  {
   "cell_type": "code",
   "execution_count": null,
   "id": "4ce319ea",
   "metadata": {},
   "outputs": [],
   "source": []
  }
 ],
 "metadata": {
  "kernelspec": {
   "display_name": "Python 3 (ipykernel)",
   "language": "python",
   "name": "python3"
  },
  "language_info": {
   "codemirror_mode": {
    "name": "ipython",
    "version": 3
   },
   "file_extension": ".py",
   "mimetype": "text/x-python",
   "name": "python",
   "nbconvert_exporter": "python",
   "pygments_lexer": "ipython3",
   "version": "3.9.12"
  }
 },
 "nbformat": 4,
 "nbformat_minor": 5
}
