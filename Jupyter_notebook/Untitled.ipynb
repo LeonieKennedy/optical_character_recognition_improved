{
 "cells": [
  {
   "cell_type": "code",
   "execution_count": 6,
   "id": "c3131e48",
   "metadata": {},
   "outputs": [
    {
     "name": "stdout",
     "output_type": "stream",
     "text": [
      "Requirement already satisfied: paddleocr in /home/iduadmin/miniconda3/lib/python3.9/site-packages (2.6.1.3)\n",
      "Requirement already satisfied: paddlepaddle in /home/iduadmin/miniconda3/lib/python3.9/site-packages (2.4.1)\n",
      "Requirement already satisfied: imgaug in /home/iduadmin/miniconda3/lib/python3.9/site-packages (from paddleocr) (0.4.0)\n",
      "Requirement already satisfied: attrdict in /home/iduadmin/miniconda3/lib/python3.9/site-packages (from paddleocr) (2.0.1)\n",
      "Requirement already satisfied: pdf2docx in /home/iduadmin/miniconda3/lib/python3.9/site-packages (from paddleocr) (0.5.6)\n",
      "Requirement already satisfied: rapidfuzz in /home/iduadmin/miniconda3/lib/python3.9/site-packages (from paddleocr) (2.13.7)\n",
      "Requirement already satisfied: opencv-contrib-python<=4.6.0.66 in /home/iduadmin/miniconda3/lib/python3.9/site-packages (from paddleocr) (4.6.0.66)\n",
      "Requirement already satisfied: lxml in /home/iduadmin/miniconda3/lib/python3.9/site-packages (from paddleocr) (4.9.1)\n",
      "Requirement already satisfied: fire>=0.3.0 in /home/iduadmin/miniconda3/lib/python3.9/site-packages (from paddleocr) (0.5.0)\n",
      "Requirement already satisfied: beautifulsoup4 in /home/iduadmin/miniconda3/lib/python3.9/site-packages (from paddleocr) (4.11.1)\n",
      "Requirement already satisfied: PyMuPDF<1.21.0 in /home/iduadmin/miniconda3/lib/python3.9/site-packages (from paddleocr) (1.20.2)\n",
      "Requirement already satisfied: visualdl in /home/iduadmin/miniconda3/lib/python3.9/site-packages (from paddleocr) (2.5.0)\n",
      "Requirement already satisfied: fonttools>=4.24.0 in /home/iduadmin/miniconda3/lib/python3.9/site-packages (from paddleocr) (4.38.0)\n",
      "Requirement already satisfied: opencv-python<=4.6.0.66 in /home/iduadmin/miniconda3/lib/python3.9/site-packages (from paddleocr) (4.5.4.60)\n",
      "Requirement already satisfied: python-docx in /home/iduadmin/miniconda3/lib/python3.9/site-packages (from paddleocr) (0.8.11)\n",
      "Requirement already satisfied: tqdm in /home/iduadmin/miniconda3/lib/python3.9/site-packages (from paddleocr) (4.64.1)\n",
      "Requirement already satisfied: pyclipper in /home/iduadmin/miniconda3/lib/python3.9/site-packages (from paddleocr) (1.3.0.post4)\n",
      "Requirement already satisfied: lmdb in /home/iduadmin/miniconda3/lib/python3.9/site-packages (from paddleocr) (1.4.0)\n",
      "Requirement already satisfied: scikit-image in /home/iduadmin/miniconda3/lib/python3.9/site-packages (from paddleocr) (0.19.3)\n",
      "Requirement already satisfied: cython in /home/iduadmin/miniconda3/lib/python3.9/site-packages (from paddleocr) (0.29.32)\n",
      "Requirement already satisfied: shapely in /home/iduadmin/miniconda3/lib/python3.9/site-packages (from paddleocr) (1.8.5.post1)\n",
      "Requirement already satisfied: numpy in /home/iduadmin/miniconda3/lib/python3.9/site-packages (from paddleocr) (1.23.5)\n",
      "Requirement already satisfied: premailer in /home/iduadmin/miniconda3/lib/python3.9/site-packages (from paddleocr) (3.10.0)\n",
      "Requirement already satisfied: openpyxl in /home/iduadmin/miniconda3/lib/python3.9/site-packages (from paddleocr) (3.0.10)\n",
      "Requirement already satisfied: decorator in /home/iduadmin/miniconda3/lib/python3.9/site-packages (from paddlepaddle) (5.1.1)\n",
      "Requirement already satisfied: Pillow in /home/iduadmin/miniconda3/lib/python3.9/site-packages (from paddlepaddle) (9.3.0)\n",
      "Requirement already satisfied: paddle-bfloat==0.1.7 in /home/iduadmin/miniconda3/lib/python3.9/site-packages (from paddlepaddle) (0.1.7)\n",
      "Requirement already satisfied: six in /home/iduadmin/miniconda3/lib/python3.9/site-packages (from paddlepaddle) (1.16.0)\n",
      "Requirement already satisfied: protobuf<=3.20.0,>=3.1.0 in /home/iduadmin/miniconda3/lib/python3.9/site-packages (from paddlepaddle) (3.19.6)\n",
      "Requirement already satisfied: requests>=2.20.0 in /home/iduadmin/miniconda3/lib/python3.9/site-packages (from paddlepaddle) (2.28.1)\n",
      "Requirement already satisfied: opt-einsum==3.3.0 in /home/iduadmin/miniconda3/lib/python3.9/site-packages (from paddlepaddle) (3.3.0)\n",
      "Requirement already satisfied: astor in /home/iduadmin/miniconda3/lib/python3.9/site-packages (from paddlepaddle) (0.8.1)\n",
      "Requirement already satisfied: termcolor in /home/iduadmin/miniconda3/lib/python3.9/site-packages (from fire>=0.3.0->paddleocr) (2.1.1)\n",
      "Requirement already satisfied: idna<4,>=2.5 in /home/iduadmin/miniconda3/lib/python3.9/site-packages (from requests>=2.20.0->paddlepaddle) (3.4)\n",
      "Requirement already satisfied: charset-normalizer<3,>=2 in /home/iduadmin/miniconda3/lib/python3.9/site-packages (from requests>=2.20.0->paddlepaddle) (2.1.1)\n",
      "Requirement already satisfied: urllib3<1.27,>=1.21.1 in /home/iduadmin/miniconda3/lib/python3.9/site-packages (from requests>=2.20.0->paddlepaddle) (1.26.12)\n",
      "Requirement already satisfied: certifi>=2017.4.17 in /home/iduadmin/miniconda3/lib/python3.9/site-packages (from requests>=2.20.0->paddlepaddle) (2022.9.24)\n",
      "Requirement already satisfied: soupsieve>1.2 in /home/iduadmin/miniconda3/lib/python3.9/site-packages (from beautifulsoup4->paddleocr) (2.3.2.post1)\n",
      "Requirement already satisfied: matplotlib in /home/iduadmin/miniconda3/lib/python3.9/site-packages (from imgaug->paddleocr) (3.6.2)\n",
      "Requirement already satisfied: scipy in /home/iduadmin/miniconda3/lib/python3.9/site-packages (from imgaug->paddleocr) (1.9.3)\n",
      "Requirement already satisfied: imageio in /home/iduadmin/miniconda3/lib/python3.9/site-packages (from imgaug->paddleocr) (2.22.4)\n",
      "Requirement already satisfied: PyWavelets>=1.1.1 in /home/iduadmin/miniconda3/lib/python3.9/site-packages (from scikit-image->paddleocr) (1.4.1)\n",
      "Requirement already satisfied: networkx>=2.2 in /home/iduadmin/miniconda3/lib/python3.9/site-packages (from scikit-image->paddleocr) (2.8.8)\n",
      "Requirement already satisfied: packaging>=20.0 in /home/iduadmin/miniconda3/lib/python3.9/site-packages (from scikit-image->paddleocr) (21.3)\n",
      "Requirement already satisfied: tifffile>=2019.7.26 in /home/iduadmin/miniconda3/lib/python3.9/site-packages (from scikit-image->paddleocr) (2022.10.10)\n",
      "Requirement already satisfied: et-xmlfile in /home/iduadmin/miniconda3/lib/python3.9/site-packages (from openpyxl->paddleocr) (1.1.0)\n",
      "Requirement already satisfied: cssselect in /home/iduadmin/miniconda3/lib/python3.9/site-packages (from premailer->paddleocr) (1.2.0)\n",
      "Requirement already satisfied: cachetools in /home/iduadmin/miniconda3/lib/python3.9/site-packages (from premailer->paddleocr) (5.2.0)\n",
      "Requirement already satisfied: cssutils in /home/iduadmin/miniconda3/lib/python3.9/site-packages (from premailer->paddleocr) (2.6.0)\n",
      "Requirement already satisfied: gradio in /home/iduadmin/miniconda3/lib/python3.9/site-packages (from visualdl->paddleocr) (3.18.0)\n",
      "Requirement already satisfied: onnx>=1.6.0 in /home/iduadmin/miniconda3/lib/python3.9/site-packages (from visualdl->paddleocr) (1.12.0)\n",
      "Requirement already satisfied: x2paddle in /home/iduadmin/miniconda3/lib/python3.9/site-packages (from visualdl->paddleocr) (1.4.0)\n",
      "Requirement already satisfied: psutil in /home/iduadmin/miniconda3/lib/python3.9/site-packages (from visualdl->paddleocr) (5.9.4)\n",
      "Requirement already satisfied: tritonclient[all] in /home/iduadmin/miniconda3/lib/python3.9/site-packages (from visualdl->paddleocr) (2.30.0)\n",
      "Requirement already satisfied: pandas in /home/iduadmin/miniconda3/lib/python3.9/site-packages (from visualdl->paddleocr) (1.5.1)\n",
      "Requirement already satisfied: Flask-Babel>=3.0.0 in /home/iduadmin/miniconda3/lib/python3.9/site-packages (from visualdl->paddleocr) (3.0.1)\n",
      "Requirement already satisfied: flask>=1.1.1 in /home/iduadmin/miniconda3/lib/python3.9/site-packages (from visualdl->paddleocr) (2.2.2)\n",
      "Requirement already satisfied: bce-python-sdk in /home/iduadmin/miniconda3/lib/python3.9/site-packages (from visualdl->paddleocr) (0.8.79)\n",
      "Requirement already satisfied: multiprocess in /home/iduadmin/miniconda3/lib/python3.9/site-packages (from visualdl->paddleocr) (0.70.14)\n",
      "Requirement already satisfied: rarfile in /home/iduadmin/miniconda3/lib/python3.9/site-packages (from visualdl->paddleocr) (4.0)\n",
      "Requirement already satisfied: importlib-metadata>=3.6.0 in /home/iduadmin/miniconda3/lib/python3.9/site-packages (from flask>=1.1.1->visualdl->paddleocr) (5.0.0)\n",
      "Requirement already satisfied: Jinja2>=3.0 in /home/iduadmin/miniconda3/lib/python3.9/site-packages (from flask>=1.1.1->visualdl->paddleocr) (3.1.2)\n",
      "Requirement already satisfied: click>=8.0 in /home/iduadmin/miniconda3/lib/python3.9/site-packages (from flask>=1.1.1->visualdl->paddleocr) (8.1.3)\n",
      "Requirement already satisfied: itsdangerous>=2.0 in /home/iduadmin/miniconda3/lib/python3.9/site-packages (from flask>=1.1.1->visualdl->paddleocr) (2.1.2)\n",
      "Requirement already satisfied: Werkzeug>=2.2.2 in /home/iduadmin/miniconda3/lib/python3.9/site-packages (from flask>=1.1.1->visualdl->paddleocr) (2.2.2)\n"
     ]
    },
    {
     "name": "stdout",
     "output_type": "stream",
     "text": [
      "Requirement already satisfied: Babel<3.0.0,>=2.11.0 in /home/iduadmin/miniconda3/lib/python3.9/site-packages (from Flask-Babel>=3.0.0->visualdl->paddleocr) (2.11.0)\n",
      "Requirement already satisfied: pytz<2023.0,>=2022.7 in /home/iduadmin/miniconda3/lib/python3.9/site-packages (from Flask-Babel>=3.0.0->visualdl->paddleocr) (2022.7.1)\n",
      "Requirement already satisfied: typing-extensions>=3.6.2.1 in /home/iduadmin/miniconda3/lib/python3.9/site-packages (from onnx>=1.6.0->visualdl->paddleocr) (4.4.0)\n",
      "Requirement already satisfied: pyparsing!=3.0.5,>=2.0.2 in /home/iduadmin/miniconda3/lib/python3.9/site-packages (from packaging>=20.0->scikit-image->paddleocr) (3.0.9)\n",
      "Requirement already satisfied: future>=0.6.0 in /home/iduadmin/miniconda3/lib/python3.9/site-packages (from bce-python-sdk->visualdl->paddleocr) (0.18.2)\n",
      "Requirement already satisfied: pycryptodome>=3.8.0 in /home/iduadmin/miniconda3/lib/python3.9/site-packages (from bce-python-sdk->visualdl->paddleocr) (3.17)\n",
      "Requirement already satisfied: websockets>=10.0 in /home/iduadmin/miniconda3/lib/python3.9/site-packages (from gradio->visualdl->paddleocr) (10.4)\n",
      "Requirement already satisfied: pyyaml in /home/iduadmin/miniconda3/lib/python3.9/site-packages (from gradio->visualdl->paddleocr) (6.0)\n",
      "Requirement already satisfied: fsspec in /home/iduadmin/miniconda3/lib/python3.9/site-packages (from gradio->visualdl->paddleocr) (2022.11.0)\n",
      "Requirement already satisfied: uvicorn in /home/iduadmin/miniconda3/lib/python3.9/site-packages (from gradio->visualdl->paddleocr) (0.19.0)\n",
      "Requirement already satisfied: httpx in /home/iduadmin/miniconda3/lib/python3.9/site-packages (from gradio->visualdl->paddleocr) (0.23.3)\n",
      "Requirement already satisfied: aiofiles in /home/iduadmin/miniconda3/lib/python3.9/site-packages (from gradio->visualdl->paddleocr) (23.1.0)\n",
      "Requirement already satisfied: fastapi in /home/iduadmin/miniconda3/lib/python3.9/site-packages (from gradio->visualdl->paddleocr) (0.87.0)\n",
      "Requirement already satisfied: aiohttp in /home/iduadmin/miniconda3/lib/python3.9/site-packages (from gradio->visualdl->paddleocr) (3.8.3)\n",
      "Requirement already satisfied: pydantic in /home/iduadmin/miniconda3/lib/python3.9/site-packages (from gradio->visualdl->paddleocr) (1.10.2)\n",
      "Requirement already satisfied: markdown-it-py[linkify,plugins]>=2.0.0 in /home/iduadmin/miniconda3/lib/python3.9/site-packages (from gradio->visualdl->paddleocr) (2.1.0)\n",
      "Requirement already satisfied: python-multipart in /home/iduadmin/miniconda3/lib/python3.9/site-packages (from gradio->visualdl->paddleocr) (0.0.5)\n",
      "Requirement already satisfied: pydub in /home/iduadmin/miniconda3/lib/python3.9/site-packages (from gradio->visualdl->paddleocr) (0.25.1)\n",
      "Requirement already satisfied: orjson in /home/iduadmin/miniconda3/lib/python3.9/site-packages (from gradio->visualdl->paddleocr) (3.8.6)\n",
      "Requirement already satisfied: ffmpy in /home/iduadmin/miniconda3/lib/python3.9/site-packages (from gradio->visualdl->paddleocr) (0.3.0)\n",
      "Requirement already satisfied: markupsafe in /home/iduadmin/miniconda3/lib/python3.9/site-packages (from gradio->visualdl->paddleocr) (2.1.1)\n",
      "Requirement already satisfied: altair>=4.2.0 in /home/iduadmin/miniconda3/lib/python3.9/site-packages (from gradio->visualdl->paddleocr) (4.2.2)\n",
      "Requirement already satisfied: contourpy>=1.0.1 in /home/iduadmin/miniconda3/lib/python3.9/site-packages (from matplotlib->imgaug->paddleocr) (1.0.6)\n",
      "Requirement already satisfied: python-dateutil>=2.7 in /home/iduadmin/miniconda3/lib/python3.9/site-packages (from matplotlib->imgaug->paddleocr) (2.8.2)\n",
      "Requirement already satisfied: cycler>=0.10 in /home/iduadmin/miniconda3/lib/python3.9/site-packages (from matplotlib->imgaug->paddleocr) (0.11.0)\n",
      "Requirement already satisfied: kiwisolver>=1.0.1 in /home/iduadmin/miniconda3/lib/python3.9/site-packages (from matplotlib->imgaug->paddleocr) (1.4.4)\n",
      "Requirement already satisfied: dill>=0.3.6 in /home/iduadmin/miniconda3/lib/python3.9/site-packages (from multiprocess->visualdl->paddleocr) (0.3.6)\n",
      "Requirement already satisfied: python-rapidjson>=0.9.1 in /home/iduadmin/miniconda3/lib/python3.9/site-packages (from tritonclient[all]->visualdl->paddleocr) (1.9)\n",
      "Requirement already satisfied: grpcio>=1.41.0 in /home/iduadmin/miniconda3/lib/python3.9/site-packages (from tritonclient[all]->visualdl->paddleocr) (1.50.0)\n",
      "Requirement already satisfied: geventhttpclient<=2.0.2,>=1.4.4 in /home/iduadmin/miniconda3/lib/python3.9/site-packages (from tritonclient[all]->visualdl->paddleocr) (2.0.2)\n",
      "Requirement already satisfied: sympy in /home/iduadmin/miniconda3/lib/python3.9/site-packages (from x2paddle->visualdl->paddleocr) (1.11.1)\n",
      "Requirement already satisfied: attrs>=17.3.0 in /home/iduadmin/miniconda3/lib/python3.9/site-packages (from aiohttp->gradio->visualdl->paddleocr) (22.1.0)\n",
      "Requirement already satisfied: aiosignal>=1.1.2 in /home/iduadmin/miniconda3/lib/python3.9/site-packages (from aiohttp->gradio->visualdl->paddleocr) (1.3.1)\n",
      "Requirement already satisfied: multidict<7.0,>=4.5 in /home/iduadmin/miniconda3/lib/python3.9/site-packages (from aiohttp->gradio->visualdl->paddleocr) (6.0.4)\n",
      "Requirement already satisfied: async-timeout<5.0,>=4.0.0a3 in /home/iduadmin/miniconda3/lib/python3.9/site-packages (from aiohttp->gradio->visualdl->paddleocr) (4.0.2)\n",
      "Requirement already satisfied: frozenlist>=1.1.1 in /home/iduadmin/miniconda3/lib/python3.9/site-packages (from aiohttp->gradio->visualdl->paddleocr) (1.3.3)\n",
      "Requirement already satisfied: yarl<2.0,>=1.0 in /home/iduadmin/miniconda3/lib/python3.9/site-packages (from aiohttp->gradio->visualdl->paddleocr) (1.8.2)\n",
      "Requirement already satisfied: toolz in /home/iduadmin/miniconda3/lib/python3.9/site-packages (from altair>=4.2.0->gradio->visualdl->paddleocr) (0.11.2)\n",
      "Requirement already satisfied: entrypoints in /home/iduadmin/miniconda3/lib/python3.9/site-packages (from altair>=4.2.0->gradio->visualdl->paddleocr) (0.4)\n",
      "Requirement already satisfied: jsonschema>=3.0 in /home/iduadmin/miniconda3/lib/python3.9/site-packages (from altair>=4.2.0->gradio->visualdl->paddleocr) (4.17.0)\n",
      "Requirement already satisfied: brotli in /home/iduadmin/miniconda3/lib/python3.9/site-packages (from geventhttpclient<=2.0.2,>=1.4.4->tritonclient[all]->visualdl->paddleocr) (1.0.9)\n",
      "Requirement already satisfied: gevent>=0.13 in /home/iduadmin/miniconda3/lib/python3.9/site-packages (from geventhttpclient<=2.0.2,>=1.4.4->tritonclient[all]->visualdl->paddleocr) (22.10.2)\n",
      "Requirement already satisfied: zipp>=0.5 in /home/iduadmin/miniconda3/lib/python3.9/site-packages (from importlib-metadata>=3.6.0->flask>=1.1.1->visualdl->paddleocr) (3.10.0)\n",
      "Requirement already satisfied: mdurl~=0.1 in /home/iduadmin/miniconda3/lib/python3.9/site-packages (from markdown-it-py[linkify,plugins]>=2.0.0->gradio->visualdl->paddleocr) (0.1.2)\n",
      "Requirement already satisfied: mdit-py-plugins in /home/iduadmin/miniconda3/lib/python3.9/site-packages (from markdown-it-py[linkify,plugins]>=2.0.0->gradio->visualdl->paddleocr) (0.3.3)\n",
      "Requirement already satisfied: linkify-it-py~=1.0 in /home/iduadmin/miniconda3/lib/python3.9/site-packages (from markdown-it-py[linkify,plugins]>=2.0.0->gradio->visualdl->paddleocr) (1.0.3)\n",
      "Requirement already satisfied: starlette==0.21.0 in /home/iduadmin/miniconda3/lib/python3.9/site-packages (from fastapi->gradio->visualdl->paddleocr) (0.21.0)\n",
      "Requirement already satisfied: anyio<5,>=3.4.0 in /home/iduadmin/miniconda3/lib/python3.9/site-packages (from starlette==0.21.0->fastapi->gradio->visualdl->paddleocr) (3.6.2)\n",
      "Requirement already satisfied: sniffio in /home/iduadmin/miniconda3/lib/python3.9/site-packages (from httpx->gradio->visualdl->paddleocr) (1.3.0)\n",
      "Requirement already satisfied: rfc3986[idna2008]<2,>=1.3 in /home/iduadmin/miniconda3/lib/python3.9/site-packages (from httpx->gradio->visualdl->paddleocr) (1.5.0)\n",
      "Requirement already satisfied: httpcore<0.17.0,>=0.15.0 in /home/iduadmin/miniconda3/lib/python3.9/site-packages (from httpx->gradio->visualdl->paddleocr) (0.16.3)\n",
      "Requirement already satisfied: mpmath>=0.19 in /home/iduadmin/miniconda3/lib/python3.9/site-packages (from sympy->x2paddle->visualdl->paddleocr) (1.2.1)\n",
      "Requirement already satisfied: h11>=0.8 in /home/iduadmin/miniconda3/lib/python3.9/site-packages (from uvicorn->gradio->visualdl->paddleocr) (0.14.0)\n"
     ]
    },
    {
     "name": "stdout",
     "output_type": "stream",
     "text": [
      "Requirement already satisfied: zope.event in /home/iduadmin/miniconda3/lib/python3.9/site-packages (from gevent>=0.13->geventhttpclient<=2.0.2,>=1.4.4->tritonclient[all]->visualdl->paddleocr) (4.6)\n",
      "Requirement already satisfied: greenlet>=2.0.0 in /home/iduadmin/miniconda3/lib/python3.9/site-packages (from gevent>=0.13->geventhttpclient<=2.0.2,>=1.4.4->tritonclient[all]->visualdl->paddleocr) (2.0.2)\n",
      "Requirement already satisfied: setuptools in /home/iduadmin/miniconda3/lib/python3.9/site-packages (from gevent>=0.13->geventhttpclient<=2.0.2,>=1.4.4->tritonclient[all]->visualdl->paddleocr) (61.2.0)\n",
      "Requirement already satisfied: zope.interface in /home/iduadmin/miniconda3/lib/python3.9/site-packages (from gevent>=0.13->geventhttpclient<=2.0.2,>=1.4.4->tritonclient[all]->visualdl->paddleocr) (5.5.2)\n",
      "Requirement already satisfied: pyrsistent!=0.17.0,!=0.17.1,!=0.17.2,>=0.14.0 in /home/iduadmin/miniconda3/lib/python3.9/site-packages (from jsonschema>=3.0->altair>=4.2.0->gradio->visualdl->paddleocr) (0.19.2)\n",
      "Requirement already satisfied: uc-micro-py in /home/iduadmin/miniconda3/lib/python3.9/site-packages (from linkify-it-py~=1.0->markdown-it-py[linkify,plugins]>=2.0.0->gradio->visualdl->paddleocr) (1.0.1)\n"
     ]
    }
   ],
   "source": [
    "# installation\n",
    "!pip install paddleocr paddlepaddle"
   ]
  },
  {
   "cell_type": "code",
   "execution_count": 7,
   "id": "aef6f76f",
   "metadata": {},
   "outputs": [
    {
     "ename": "AttributeError",
     "evalue": "partially initialized module 'cv2' has no attribute 'gapi_wip_gst_GStreamerPipeline' (most likely due to a circular import)",
     "output_type": "error",
     "traceback": [
      "\u001b[0;31m---------------------------------------------------------------------------\u001b[0m",
      "\u001b[0;31mAttributeError\u001b[0m                            Traceback (most recent call last)",
      "Cell \u001b[0;32mIn [7], line 1\u001b[0m\n\u001b[0;32m----> 1\u001b[0m \u001b[38;5;28;01mfrom\u001b[39;00m \u001b[38;5;21;01mpaddleocr\u001b[39;00m \u001b[38;5;28;01mimport\u001b[39;00m PaddleOCR\n\u001b[1;32m      2\u001b[0m img_path \u001b[38;5;241m=\u001b[39m \u001b[38;5;124m\"\u001b[39m\u001b[38;5;124m/home/iduadmin/PycharmProjects/OCR/Task3_images/document/OCR_Test_Image_5.png\u001b[39m\u001b[38;5;124m\"\u001b[39m\n\u001b[1;32m      3\u001b[0m ocr \u001b[38;5;241m=\u001b[39m PaddleOCR(use_angle_cls\u001b[38;5;241m=\u001b[39m\u001b[38;5;28;01mTrue\u001b[39;00m, lang\u001b[38;5;241m=\u001b[39m\u001b[38;5;124m'\u001b[39m\u001b[38;5;124men\u001b[39m\u001b[38;5;124m'\u001b[39m)\n",
      "File \u001b[0;32m~/miniconda3/lib/python3.9/site-packages/paddleocr/__init__.py:14\u001b[0m\n\u001b[1;32m      1\u001b[0m \u001b[38;5;66;03m# Copyright (c) 2020 PaddlePaddle Authors. All Rights Reserved.\u001b[39;00m\n\u001b[1;32m      2\u001b[0m \u001b[38;5;66;03m#\u001b[39;00m\n\u001b[1;32m      3\u001b[0m \u001b[38;5;66;03m# Licensed under the Apache License, Version 2.0 (the \"License\");\u001b[39;00m\n\u001b[0;32m   (...)\u001b[0m\n\u001b[1;32m     12\u001b[0m \u001b[38;5;66;03m# See the License for the specific language governing permissions and\u001b[39;00m\n\u001b[1;32m     13\u001b[0m \u001b[38;5;66;03m# limitations under the License.\u001b[39;00m\n\u001b[0;32m---> 14\u001b[0m \u001b[38;5;28;01mfrom\u001b[39;00m \u001b[38;5;21;01m.\u001b[39;00m\u001b[38;5;21;01mpaddleocr\u001b[39;00m \u001b[38;5;28;01mimport\u001b[39;00m \u001b[38;5;241m*\u001b[39m\n\u001b[1;32m     16\u001b[0m __version__ \u001b[38;5;241m=\u001b[39m paddleocr\u001b[38;5;241m.\u001b[39mVERSION\n\u001b[1;32m     17\u001b[0m __all__ \u001b[38;5;241m=\u001b[39m [\n\u001b[1;32m     18\u001b[0m     \u001b[38;5;124m'\u001b[39m\u001b[38;5;124mPaddleOCR\u001b[39m\u001b[38;5;124m'\u001b[39m, \u001b[38;5;124m'\u001b[39m\u001b[38;5;124mPPStructure\u001b[39m\u001b[38;5;124m'\u001b[39m, \u001b[38;5;124m'\u001b[39m\u001b[38;5;124mdraw_ocr\u001b[39m\u001b[38;5;124m'\u001b[39m, \u001b[38;5;124m'\u001b[39m\u001b[38;5;124mdraw_structure_result\u001b[39m\u001b[38;5;124m'\u001b[39m,\n\u001b[1;32m     19\u001b[0m     \u001b[38;5;124m'\u001b[39m\u001b[38;5;124msave_structure_res\u001b[39m\u001b[38;5;124m'\u001b[39m, \u001b[38;5;124m'\u001b[39m\u001b[38;5;124mdownload_with_progressbar\u001b[39m\u001b[38;5;124m'\u001b[39m, \u001b[38;5;124m'\u001b[39m\u001b[38;5;124msorted_layout_boxes\u001b[39m\u001b[38;5;124m'\u001b[39m,\n\u001b[1;32m     20\u001b[0m     \u001b[38;5;124m'\u001b[39m\u001b[38;5;124mconvert_info_docx\u001b[39m\u001b[38;5;124m'\u001b[39m, \u001b[38;5;124m'\u001b[39m\u001b[38;5;124mto_excel\u001b[39m\u001b[38;5;124m'\u001b[39m\n\u001b[1;32m     21\u001b[0m ]\n",
      "File \u001b[0;32m~/miniconda3/lib/python3.9/site-packages/paddleocr/paddleocr.py:25\u001b[0m\n\u001b[1;32m     21\u001b[0m \u001b[38;5;28;01mimport\u001b[39;00m \u001b[38;5;21;01mpaddle\u001b[39;00m\n\u001b[1;32m     23\u001b[0m sys\u001b[38;5;241m.\u001b[39mpath\u001b[38;5;241m.\u001b[39mappend(os\u001b[38;5;241m.\u001b[39mpath\u001b[38;5;241m.\u001b[39mjoin(\u001b[38;5;21m__dir__\u001b[39m, \u001b[38;5;124m'\u001b[39m\u001b[38;5;124m'\u001b[39m))\n\u001b[0;32m---> 25\u001b[0m \u001b[38;5;28;01mimport\u001b[39;00m \u001b[38;5;21;01mcv2\u001b[39;00m\n\u001b[1;32m     26\u001b[0m \u001b[38;5;28;01mimport\u001b[39;00m \u001b[38;5;21;01mlogging\u001b[39;00m\n\u001b[1;32m     27\u001b[0m \u001b[38;5;28;01mimport\u001b[39;00m \u001b[38;5;21;01mnumpy\u001b[39;00m \u001b[38;5;28;01mas\u001b[39;00m \u001b[38;5;21;01mnp\u001b[39;00m\n",
      "File \u001b[0;32m~/miniconda3/lib/python3.9/site-packages/cv2/__init__.py:181\u001b[0m\n\u001b[1;32m    176\u001b[0m             \u001b[38;5;28;01mif\u001b[39;00m DEBUG: \u001b[38;5;28mprint\u001b[39m(\u001b[38;5;124m\"\u001b[39m\u001b[38;5;124mExtra Python code for\u001b[39m\u001b[38;5;124m\"\u001b[39m, submodule, \u001b[38;5;124m\"\u001b[39m\u001b[38;5;124mis loaded\u001b[39m\u001b[38;5;124m\"\u001b[39m)\n\u001b[1;32m    178\u001b[0m     \u001b[38;5;28;01mif\u001b[39;00m DEBUG: \u001b[38;5;28mprint\u001b[39m(\u001b[38;5;124m'\u001b[39m\u001b[38;5;124mOpenCV loader: DONE\u001b[39m\u001b[38;5;124m'\u001b[39m)\n\u001b[0;32m--> 181\u001b[0m \u001b[43mbootstrap\u001b[49m\u001b[43m(\u001b[49m\u001b[43m)\u001b[49m\n",
      "File \u001b[0;32m~/miniconda3/lib/python3.9/site-packages/cv2/__init__.py:175\u001b[0m, in \u001b[0;36mbootstrap\u001b[0;34m()\u001b[0m\n\u001b[1;32m    172\u001b[0m \u001b[38;5;28;01mif\u001b[39;00m DEBUG: \u001b[38;5;28mprint\u001b[39m(\u001b[38;5;124m'\u001b[39m\u001b[38;5;124mOpenCV loader: binary extension... OK\u001b[39m\u001b[38;5;124m'\u001b[39m)\n\u001b[1;32m    174\u001b[0m \u001b[38;5;28;01mfor\u001b[39;00m submodule \u001b[38;5;129;01min\u001b[39;00m __collect_extra_submodules(DEBUG):\n\u001b[0;32m--> 175\u001b[0m     \u001b[38;5;28;01mif\u001b[39;00m \u001b[43m__load_extra_py_code_for_module\u001b[49m\u001b[43m(\u001b[49m\u001b[38;5;124;43m\"\u001b[39;49m\u001b[38;5;124;43mcv2\u001b[39;49m\u001b[38;5;124;43m\"\u001b[39;49m\u001b[43m,\u001b[49m\u001b[43m \u001b[49m\u001b[43msubmodule\u001b[49m\u001b[43m,\u001b[49m\u001b[43m \u001b[49m\u001b[43mDEBUG\u001b[49m\u001b[43m)\u001b[49m:\n\u001b[1;32m    176\u001b[0m         \u001b[38;5;28;01mif\u001b[39;00m DEBUG: \u001b[38;5;28mprint\u001b[39m(\u001b[38;5;124m\"\u001b[39m\u001b[38;5;124mExtra Python code for\u001b[39m\u001b[38;5;124m\"\u001b[39m, submodule, \u001b[38;5;124m\"\u001b[39m\u001b[38;5;124mis loaded\u001b[39m\u001b[38;5;124m\"\u001b[39m)\n\u001b[1;32m    178\u001b[0m \u001b[38;5;28;01mif\u001b[39;00m DEBUG: \u001b[38;5;28mprint\u001b[39m(\u001b[38;5;124m'\u001b[39m\u001b[38;5;124mOpenCV loader: DONE\u001b[39m\u001b[38;5;124m'\u001b[39m)\n",
      "File \u001b[0;32m~/miniconda3/lib/python3.9/site-packages/cv2/__init__.py:28\u001b[0m, in \u001b[0;36m__load_extra_py_code_for_module\u001b[0;34m(base, name, enable_debug_print)\u001b[0m\n\u001b[1;32m     26\u001b[0m native_module \u001b[38;5;241m=\u001b[39m sys\u001b[38;5;241m.\u001b[39mmodules\u001b[38;5;241m.\u001b[39mpop(module_name, \u001b[38;5;28;01mNone\u001b[39;00m)\n\u001b[1;32m     27\u001b[0m \u001b[38;5;28;01mtry\u001b[39;00m:\n\u001b[0;32m---> 28\u001b[0m     py_module \u001b[38;5;241m=\u001b[39m \u001b[43mimportlib\u001b[49m\u001b[38;5;241;43m.\u001b[39;49m\u001b[43mimport_module\u001b[49m\u001b[43m(\u001b[49m\u001b[43mmodule_name\u001b[49m\u001b[43m)\u001b[49m\n\u001b[1;32m     29\u001b[0m \u001b[38;5;28;01mexcept\u001b[39;00m \u001b[38;5;167;01mImportError\u001b[39;00m \u001b[38;5;28;01mas\u001b[39;00m err:\n\u001b[1;32m     30\u001b[0m     \u001b[38;5;28;01mif\u001b[39;00m enable_debug_print:\n",
      "File \u001b[0;32m~/miniconda3/lib/python3.9/importlib/__init__.py:127\u001b[0m, in \u001b[0;36mimport_module\u001b[0;34m(name, package)\u001b[0m\n\u001b[1;32m    125\u001b[0m             \u001b[38;5;28;01mbreak\u001b[39;00m\n\u001b[1;32m    126\u001b[0m         level \u001b[38;5;241m+\u001b[39m\u001b[38;5;241m=\u001b[39m \u001b[38;5;241m1\u001b[39m\n\u001b[0;32m--> 127\u001b[0m \u001b[38;5;28;01mreturn\u001b[39;00m \u001b[43m_bootstrap\u001b[49m\u001b[38;5;241;43m.\u001b[39;49m\u001b[43m_gcd_import\u001b[49m\u001b[43m(\u001b[49m\u001b[43mname\u001b[49m\u001b[43m[\u001b[49m\u001b[43mlevel\u001b[49m\u001b[43m:\u001b[49m\u001b[43m]\u001b[49m\u001b[43m,\u001b[49m\u001b[43m \u001b[49m\u001b[43mpackage\u001b[49m\u001b[43m,\u001b[49m\u001b[43m \u001b[49m\u001b[43mlevel\u001b[49m\u001b[43m)\u001b[49m\n",
      "File \u001b[0;32m~/miniconda3/lib/python3.9/site-packages/cv2/gapi/__init__.py:290\u001b[0m\n\u001b[1;32m    285\u001b[0m         \u001b[38;5;28;01mreturn\u001b[39;00m \u001b[38;5;28mcls\u001b[39m\n\u001b[1;32m    287\u001b[0m     \u001b[38;5;28;01mreturn\u001b[39;00m kernel_with_params\n\u001b[0;32m--> 290\u001b[0m cv\u001b[38;5;241m.\u001b[39mgapi\u001b[38;5;241m.\u001b[39mwip\u001b[38;5;241m.\u001b[39mGStreamerPipeline \u001b[38;5;241m=\u001b[39m \u001b[43mcv\u001b[49m\u001b[38;5;241;43m.\u001b[39;49m\u001b[43mgapi_wip_gst_GStreamerPipeline\u001b[49m\n",
      "\u001b[0;31mAttributeError\u001b[0m: partially initialized module 'cv2' has no attribute 'gapi_wip_gst_GStreamerPipeline' (most likely due to a circular import)"
     ]
    }
   ],
   "source": [
    "from paddleocr import PaddleOCR\n",
    "img_path = \"/home/iduadmin/PycharmProjects/OCR/Task3_images/document/OCR_Test_Image_5.png\"\n",
    "ocr = PaddleOCR(use_angle_cls=True, lang='en')\n",
    "result = ocr.ocr(img_path, cls=True)"
   ]
  },
  {
   "cell_type": "code",
   "execution_count": null,
   "id": "a6c70270",
   "metadata": {},
   "outputs": [],
   "source": []
  }
 ],
 "metadata": {
  "kernelspec": {
   "display_name": "Python 3 (ipykernel)",
   "language": "python",
   "name": "python3"
  },
  "language_info": {
   "codemirror_mode": {
    "name": "ipython",
    "version": 3
   },
   "file_extension": ".py",
   "mimetype": "text/x-python",
   "name": "python",
   "nbconvert_exporter": "python",
   "pygments_lexer": "ipython3",
   "version": "3.9.12"
  }
 },
 "nbformat": 4,
 "nbformat_minor": 5
}
